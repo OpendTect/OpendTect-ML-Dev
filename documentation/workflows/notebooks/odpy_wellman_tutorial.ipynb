{
 "cells": [
  {
   "cell_type": "markdown",
   "id": "7245f693",
   "metadata": {},
   "source": [
    "### Simple tutorial on how to use odpy.wellman"
   ]
  },
  {
   "cell_type": "markdown",
   "id": "940b69b4",
   "metadata": {},
   "source": [
    "Set project directory with odpy.common"
   ]
  },
  {
   "cell_type": "code",
   "execution_count": 1,
   "id": "4f20a2a6",
   "metadata": {},
   "outputs": [],
   "source": [
    "import odpy.common as odcommon"
   ]
  },
  {
   "cell_type": "code",
   "execution_count": 2,
   "id": "30b03c15",
   "metadata": {},
   "outputs": [
    {
     "data": {
      "text/plain": [
       "{'dtectexec': ['C:\\\\PROGRA~1\\\\OPENDT~1\\\\6683E8~1.0\\\\bin\\\\win64\\\\Release'],\n",
       " 'dtectdata': ['C:\\\\Users\\\\OLAWALE IBRAHIM\\\\DTECT_DATA'],\n",
       " 'survey': ['F3_Demo_2020']}"
      ]
     },
     "execution_count": 2,
     "metadata": {},
     "output_type": "execute_result"
    }
   ],
   "source": [
    "odargs = odcommon.getODArgs()\n",
    "odargs"
   ]
  },
  {
   "cell_type": "code",
   "execution_count": 3,
   "id": "1e39abfc",
   "metadata": {},
   "outputs": [
    {
     "data": {
      "text/plain": [
       "'C:\\\\Users\\\\OLAWALE IBRAHIM\\\\DTECT_DATA\\\\F3_Demo_2020'"
      ]
     },
     "execution_count": 3,
     "metadata": {},
     "output_type": "execute_result"
    }
   ],
   "source": [
    "projectdir = odargs['dtectdata'][0] + '\\\\' + odargs['survey'][0]\n",
    "projectdir"
   ]
  },
  {
   "cell_type": "markdown",
   "id": "018d98e0",
   "metadata": {},
   "source": [
    "Use odpy.wellman to explore and connect to survey well database "
   ]
  },
  {
   "cell_type": "code",
   "execution_count": 4,
   "id": "825895dd",
   "metadata": {},
   "outputs": [],
   "source": [
    "import odpy.wellman as wlm"
   ]
  },
  {
   "cell_type": "code",
   "execution_count": 5,
   "id": "4c1caed7",
   "metadata": {},
   "outputs": [
    {
     "data": {
      "text/plain": [
       "{'Size': 4,\n",
       " 'IDs': ['100050.2', '100050.3', '100050.4', '100050.5'],\n",
       " 'Names': ['F02-1', 'F03-2', 'F03-4', 'F06-1'],\n",
       " 'Status': 'OK'}"
      ]
     },
     "execution_count": 5,
     "metadata": {},
     "output_type": "execute_result"
    }
   ],
   "source": [
    "dbinfo = wlm.getWellDBList(reload=True)\n",
    "dbinfo"
   ]
  },
  {
   "cell_type": "markdown",
   "id": "4e17f59f",
   "metadata": {},
   "source": [
    "Get information on well"
   ]
  },
  {
   "cell_type": "code",
   "execution_count": 6,
   "id": "57cc7fca",
   "metadata": {},
   "outputs": [
    {
     "data": {
      "text/plain": [
       "{'ID': '100050.2',\n",
       " 'Name': 'F02-1',\n",
       " 'Format': 'dGB',\n",
       " 'TranslatorGroup': 'Well',\n",
       " 'File_name': 'C:\\\\Users\\\\OLAWALE IBRAHIM\\\\DTECT_DATA\\\\F3_Demo_2020\\\\WellInfo\\\\F02-1.well',\n",
       " 'Status': 'OK',\n",
       " 'X': 606554,\n",
       " 'Y': 6080126}"
      ]
     },
     "execution_count": 6,
     "metadata": {},
     "output_type": "execute_result"
    }
   ],
   "source": [
    "wlm.getInfo(wllnm='F02-1')"
   ]
  },
  {
   "cell_type": "code",
   "execution_count": 7,
   "id": "eef03754",
   "metadata": {},
   "outputs": [
    {
     "data": {
      "text/plain": [
       "'100050.5'"
      ]
     },
     "execution_count": 7,
     "metadata": {},
     "output_type": "execute_result"
    }
   ],
   "source": [
    "wlm.getDBKey(wllnm='F06-1')"
   ]
  },
  {
   "cell_type": "markdown",
   "id": "bfb3fc6f",
   "metadata": {},
   "source": [
    "Get available logs for well"
   ]
  },
  {
   "cell_type": "code",
   "execution_count": 8,
   "id": "cc9f47ea",
   "metadata": {},
   "outputs": [
    {
     "data": {
      "text/plain": [
       "['Density',\n",
       " 'Sonic',\n",
       " 'Gamma Ray',\n",
       " 'Porosity',\n",
       " 'P-Impedance',\n",
       " 'P-Impedance_rel',\n",
       " 'Vp',\n",
       " 'Vp_BLI',\n",
       " 'Vs_BLI',\n",
       " 'Density_BLI',\n",
       " 'Litholog (10=sand 15=silt 20=silty shale 30=shale)']"
      ]
     },
     "execution_count": 8,
     "metadata": {},
     "output_type": "execute_result"
    }
   ],
   "source": [
    "lognames = wlm.getLogNames(wllnm='F02-1')\n",
    "lognames"
   ]
  },
  {
   "cell_type": "code",
   "execution_count": 9,
   "id": "45ead950",
   "metadata": {},
   "outputs": [],
   "source": [
    "density = wlm.getLogs(wllnm='F02-1', logidxlst='0')  #get logs according to log names index"
   ]
  },
  {
   "cell_type": "code",
   "execution_count": 10,
   "id": "3a7956fa",
   "metadata": {},
   "outputs": [
    {
     "data": {
      "text/plain": [
       "dict_keys(['depth', 'Density (g/cc)'])"
      ]
     },
     "execution_count": 10,
     "metadata": {},
     "output_type": "execute_result"
    }
   ],
   "source": [
    "density.keys()"
   ]
  },
  {
   "cell_type": "code",
   "execution_count": 11,
   "id": "676b5e32",
   "metadata": {},
   "outputs": [],
   "source": [
    "den_depth=density['depth']\n",
    "DENS=density['Density (g/cc)']"
   ]
  },
  {
   "cell_type": "code",
   "execution_count": 12,
   "id": "b29d271d",
   "metadata": {},
   "outputs": [
    {
     "data": {
      "text/plain": [
       "(2239, 2239)"
      ]
     },
     "execution_count": 12,
     "metadata": {},
     "output_type": "execute_result"
    }
   ],
   "source": [
    "len(den_depth), len(DENS)"
   ]
  },
  {
   "cell_type": "code",
   "execution_count": 19,
   "id": "7aa3f365",
   "metadata": {},
   "outputs": [
    {
     "data": {
      "text/plain": [
       "[2.042564868927,\n",
       " 2.043594121932983,\n",
       " 2.0460033416748,\n",
       " 2.039648532867432,\n",
       " 2.039428472518921,\n",
       " 2.0468316078186,\n",
       " 2.048641443252563,\n",
       " 2.045384168624878,\n",
       " 2.0397584438324,\n",
       " 2.038313150405884]"
      ]
     },
     "execution_count": 19,
     "metadata": {},
     "output_type": "execute_result"
    }
   ],
   "source": [
    "DENS[:10]"
   ]
  },
  {
   "cell_type": "code",
   "execution_count": 14,
   "id": "3dfb13c1",
   "metadata": {},
   "outputs": [],
   "source": [
    "depth, density = wlm.getLog('F02-1', 'Density')  # gets mean depth and log values of a well log"
   ]
  },
  {
   "cell_type": "code",
   "execution_count": 15,
   "id": "2adfccfa",
   "metadata": {},
   "outputs": [
    {
     "data": {
      "text/plain": [
       "['F02-1', 'F03-2', 'F03-4', 'F06-1']"
      ]
     },
     "execution_count": 15,
     "metadata": {},
     "output_type": "execute_result"
    }
   ],
   "source": [
    "wlm.getNames()  # to get survey well names"
   ]
  },
  {
   "cell_type": "markdown",
   "id": "f772d79f",
   "metadata": {},
   "source": [
    "Get available markers for well F02-1"
   ]
  },
  {
   "cell_type": "code",
   "execution_count": 16,
   "id": "ba642606",
   "metadata": {
    "scrolled": true
   },
   "outputs": [
    {
     "data": {
      "text/plain": [
       "(['Seasurface',\n",
       "  'MFS11',\n",
       "  'FS11',\n",
       "  'MFS10',\n",
       "  'MFS9',\n",
       "  'MFS8',\n",
       "  'FS8',\n",
       "  'FS7',\n",
       "  'Truncation',\n",
       "  'Top Foresets',\n",
       "  'FS6',\n",
       "  'MFS4',\n",
       "  'FS4',\n",
       "  'FS3',\n",
       "  'FS2',\n",
       "  'MFS2',\n",
       "  'FS1',\n",
       "  'MMU'],\n",
       " [30,\n",
       "  553.6,\n",
       "  576.0227661132812,\n",
       "  683.31,\n",
       "  716.6500244140625,\n",
       "  748.49,\n",
       "  795.0091552734375,\n",
       "  942.2757568359375,\n",
       "  1051.410400390625,\n",
       "  1094.972900390625,\n",
       "  1106.9383544921875,\n",
       "  1108.8570556640625,\n",
       "  1149.5823974609375,\n",
       "  1164.7298583984375,\n",
       "  1174.62,\n",
       "  1197.0799560546875,\n",
       "  1252.26,\n",
       "  1285.08984375],\n",
       " ['#dc3232',\n",
       "  '#3232dc',\n",
       "  '#32c832',\n",
       "  '#32c8c8',\n",
       "  '#ffd200',\n",
       "  '#dc00dc',\n",
       "  '#00ff00',\n",
       "  '#3232dc',\n",
       "  '#aa55ff',\n",
       "  '#ff0000',\n",
       "  '#ffaa00',\n",
       "  '#0055ff',\n",
       "  '#32c832',\n",
       "  '#32c8c8',\n",
       "  '#ffd200',\n",
       "  '#dc00dc',\n",
       "  '#8c8250',\n",
       "  '#ff0000'])"
      ]
     },
     "execution_count": 16,
     "metadata": {},
     "output_type": "execute_result"
    }
   ],
   "source": [
    "wlm.getMarkers('F02-1')   #returns a tuple of lists of available markers"
   ]
  },
  {
   "cell_type": "markdown",
   "id": "a961cd52",
   "metadata": {},
   "source": [
    " Gets track depth info;"
   ]
  },
  {
   "cell_type": "code",
   "execution_count": 17,
   "id": "9ed4c7b0",
   "metadata": {},
   "outputs": [
    {
     "data": {
      "text/plain": [
       "([0, 1695], [-30, 1665], [606554, 606554], [6080126, 6080126])"
      ]
     },
     "execution_count": 17,
     "metadata": {},
     "output_type": "execute_result"
    }
   ],
   "source": [
    "wlm.getTrack('F02-1')  # returns a tuple of of lists of track info (MDs, TVDs, x cord., y cord.)"
   ]
  },
  {
   "cell_type": "code",
   "execution_count": 18,
   "id": "c09e2c44",
   "metadata": {},
   "outputs": [
    {
     "data": {
      "text/plain": [
       "True"
      ]
     },
     "execution_count": 18,
     "metadata": {},
     "output_type": "execute_result"
    }
   ],
   "source": [
    "odcommon.writeFile(('.\\wellinfo'), str(wlm.getInfo(wllnm='F02-1')))"
   ]
  },
  {
   "cell_type": "code",
   "execution_count": null,
   "id": "55f9a111",
   "metadata": {},
   "outputs": [],
   "source": []
  }
 ],
 "metadata": {
  "kernelspec": {
   "display_name": "Python 3 (ipykernel)",
   "language": "python",
   "name": "python3"
  },
  "language_info": {
   "codemirror_mode": {
    "name": "ipython",
    "version": 3
   },
   "file_extension": ".py",
   "mimetype": "text/x-python",
   "name": "python",
   "nbconvert_exporter": "python",
   "pygments_lexer": "ipython3",
   "version": "3.8.5"
  }
 },
 "nbformat": 4,
 "nbformat_minor": 5
}
