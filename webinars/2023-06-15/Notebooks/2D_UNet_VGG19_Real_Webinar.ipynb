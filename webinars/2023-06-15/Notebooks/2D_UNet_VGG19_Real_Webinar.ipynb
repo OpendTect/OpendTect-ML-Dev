{
 "cells": [
  {
   "cell_type": "code",
   "execution_count": 1,
   "id": "06536da1-2678-481c-96db-ce96292da85c",
   "metadata": {},
   "outputs": [],
   "source": [
    "from dgbpy import hdf5 as dgbhdf5 \n",
    "from dgbpy import dgbkeras\n",
    "from dgbpy import mlio as dgbmlio\n",
    "from dgbpy import mlapply as dgbmlapply\n",
    "from dgbpy import keystr as dgbkeys\n",
    "from unet_vgg19 import *"
   ]
  },
  {
   "cell_type": "code",
   "execution_count": 2,
   "id": "d51c6383-3d28-4852-a2d6-01b59bb304eb",
   "metadata": {},
   "outputs": [
    {
     "name": "stdout",
     "output_type": "stream",
     "text": [
      "Process: 'Scaler computation'\n",
      "Started: Wed 21 Jun 2023, 06:43:57\n",
      "Finished: Wed 21 Jun 2023, 06:44:01\n",
      "Process: 'Data pre-loading'\n",
      "Started: Wed 21 Jun 2023, 06:44:01\n",
      "Finished: Wed 21 Jun 2023, 06:44:01\n"
     ]
    }
   ],
   "source": [
    "imagexfilenm = f'C:/Users/Legion/OdT_Folder/F3_Demo_2023_ML_2/NLAs/2D_extracted_dataset.h5'\n",
    "imgdp = dgbmlapply.getScaledTrainingData(imagexfilenm, split=0.2)"
   ]
  },
  {
   "cell_type": "code",
   "execution_count": 3,
   "id": "70a069de-08ee-413b-89cd-627fe7154fb5",
   "metadata": {},
   "outputs": [],
   "source": [
    "infos = imgdp[dgbkeys.infodictstr]\n",
    "inpshape = infos[dgbkeys.inpscalingvalsdictstr]\n",
    "nrattribs = dgbhdf5.getNrAttribs(infos)"
   ]
  },
  {
   "cell_type": "code",
   "execution_count": 4,
   "id": "c6a09f62-d87f-4b5d-ab1b-98f4276931d6",
   "metadata": {},
   "outputs": [
    {
     "name": "stdout",
     "output_type": "stream",
     "text": [
      "Model: \"model\"\n",
      "__________________________________________________________________________________________________\n",
      " Layer (type)                   Output Shape         Param #     Connected to                     \n",
      "==================================================================================================\n",
      " 1024_input (InputLayer)        [(None, 128, 128, 1  0           []                               \n",
      "                                )]                                                                \n",
      "                                                                                                  \n",
      " 1024_block1_conv1 (Conv2D)     (None, 128, 128, 64  640         ['1024_input[0][0]']             \n",
      "                                )                                                                 \n",
      "                                                                                                  \n",
      " 1024_block1_conv2 (Conv2D)     (None, 128, 128, 64  36928       ['1024_block1_conv1[0][0]']      \n",
      "                                )                                                                 \n",
      "                                                                                                  \n",
      " 1024_block1_pool (MaxPooling2D  (None, 64, 64, 64)  0           ['1024_block1_conv2[0][0]']      \n",
      " )                                                                                                \n",
      "                                                                                                  \n",
      " 1024_block2_conv1 (Conv2D)     (None, 64, 64, 128)  73856       ['1024_block1_pool[0][0]']       \n",
      "                                                                                                  \n",
      " 1024_block2_conv2 (Conv2D)     (None, 64, 64, 128)  147584      ['1024_block2_conv1[0][0]']      \n",
      "                                                                                                  \n",
      " 1024_block2_pool (MaxPooling2D  (None, 32, 32, 128)  0          ['1024_block2_conv2[0][0]']      \n",
      " )                                                                                                \n",
      "                                                                                                  \n",
      " 1024_block3_conv1 (Conv2D)     (None, 32, 32, 256)  295168      ['1024_block2_pool[0][0]']       \n",
      "                                                                                                  \n",
      " 1024_block3_conv2 (Conv2D)     (None, 32, 32, 256)  590080      ['1024_block3_conv1[0][0]']      \n",
      "                                                                                                  \n",
      " 1024_block3_conv3 (Conv2D)     (None, 32, 32, 256)  590080      ['1024_block3_conv2[0][0]']      \n",
      "                                                                                                  \n",
      " 1024_block3_pool (MaxPooling2D  (None, 16, 16, 256)  0          ['1024_block3_conv3[0][0]']      \n",
      " )                                                                                                \n",
      "                                                                                                  \n",
      " 1024_block4_conv1 (Conv2D)     (None, 16, 16, 512)  1180160     ['1024_block3_pool[0][0]']       \n",
      "                                                                                                  \n",
      " 1024_block4_conv2 (Conv2D)     (None, 16, 16, 512)  2359808     ['1024_block4_conv1[0][0]']      \n",
      "                                                                                                  \n",
      " 1024_block4_conv3 (Conv2D)     (None, 16, 16, 512)  2359808     ['1024_block4_conv2[0][0]']      \n",
      "                                                                                                  \n",
      " up_sampling2d (UpSampling2D)   (None, 32, 32, 512)  0           ['1024_block4_conv3[0][0]']      \n",
      "                                                                                                  \n",
      " concatenate (Concatenate)      (None, 32, 32, 768)  0           ['up_sampling2d[0][0]',          \n",
      "                                                                  '1024_block3_conv3[0][0]']      \n",
      "                                                                                                  \n",
      " conv2d (Conv2D)                (None, 32, 32, 64)   442432      ['concatenate[0][0]']            \n",
      "                                                                                                  \n",
      " conv2d_1 (Conv2D)              (None, 32, 32, 64)   36928       ['conv2d[0][0]']                 \n",
      "                                                                                                  \n",
      " up_sampling2d_1 (UpSampling2D)  (None, 64, 64, 64)  0           ['conv2d_1[0][0]']               \n",
      "                                                                                                  \n",
      " concatenate_1 (Concatenate)    (None, 64, 64, 192)  0           ['up_sampling2d_1[0][0]',        \n",
      "                                                                  '1024_block2_conv2[0][0]']      \n",
      "                                                                                                  \n",
      " conv2d_2 (Conv2D)              (None, 64, 64, 32)   55328       ['concatenate_1[0][0]']          \n",
      "                                                                                                  \n",
      " conv2d_3 (Conv2D)              (None, 64, 64, 32)   9248        ['conv2d_2[0][0]']               \n",
      "                                                                                                  \n",
      " up_sampling2d_2 (UpSampling2D)  (None, 128, 128, 32  0          ['conv2d_3[0][0]']               \n",
      "                                )                                                                 \n",
      "                                                                                                  \n",
      " concatenate_2 (Concatenate)    (None, 128, 128, 96  0           ['up_sampling2d_2[0][0]',        \n",
      "                                )                                 '1024_block1_conv2[0][0]']      \n",
      "                                                                                                  \n",
      " conv2d_4 (Conv2D)              (None, 128, 128, 16  13840       ['concatenate_2[0][0]']          \n",
      "                                )                                                                 \n",
      "                                                                                                  \n",
      " conv2d_5 (Conv2D)              (None, 128, 128, 16  2320        ['conv2d_4[0][0]']               \n",
      "                                )                                                                 \n",
      "                                                                                                  \n",
      " conv2d_6 (Conv2D)              (None, 128, 128, 1)  17          ['conv2d_5[0][0]']               \n",
      "                                                                                                  \n",
      "==================================================================================================\n",
      "Total params: 8,194,225\n",
      "Trainable params: 8,194,225\n",
      "Non-trainable params: 0\n",
      "__________________________________________________________________________________________________\n"
     ]
    }
   ],
   "source": [
    "model = UNet_VGG19()"
   ]
  },
  {
   "cell_type": "code",
   "execution_count": 5,
   "id": "40dfe703-e5ac-49ac-8f9b-0b3c23fc89e4",
   "metadata": {},
   "outputs": [
    {
     "name": "stdout",
     "output_type": "stream",
     "text": [
      "Starting training iteration 1/1\n",
      "Training on 19 batches of 8 samples\n",
      "Validate on 4 batches of 8 samples\n"
     ]
    },
    {
     "data": {
      "text/html": [
       "\n",
       "<style>\n",
       "    /* Turns off some styling */\n",
       "    progress {\n",
       "        /* gets rid of default border in Firefox and Opera. */\n",
       "        border: none;\n",
       "        /* Needs to be in here for Safari polyfill so background images work as expected. */\n",
       "        background-size: auto;\n",
       "    }\n",
       "    progress:not([value]), progress:not([value])::-webkit-progress-bar {\n",
       "        background: repeating-linear-gradient(45deg, #7e7e7e, #7e7e7e 10px, #5c5c5c 10px, #5c5c5c 20px);\n",
       "    }\n",
       "    .progress-bar-interrupted, .progress-bar-interrupted::-webkit-progress-bar {\n",
       "        background: #F44336;\n",
       "    }\n",
       "</style>\n"
      ],
      "text/plain": [
       "<IPython.core.display.HTML object>"
      ]
     },
     "metadata": {},
     "output_type": "display_data"
    },
    {
     "data": {
      "text/html": [
       "<table border=\"1\" class=\"dataframe\">\n",
       "  <thead>\n",
       "    <tr style=\"text-align: left;\">\n",
       "      <th>Epochs</th>\n",
       "      <th>Train loss</th>\n",
       "      <th>Train accuracy</th>\n",
       "      <th>Valid loss</th>\n",
       "      <th>Valid accuracy</th>\n",
       "      <th>Time</th>\n",
       "    </tr>\n",
       "  </thead>\n",
       "  <tbody>\n",
       "    <tr>\n",
       "      <td>1</td>\n",
       "      <td>0.0794</td>\n",
       "      <td>0.6743</td>\n",
       "      <td>0.0669</td>\n",
       "      <td>0.6959</td>\n",
       "      <td>00:15</td>\n",
       "    </tr>\n",
       "    <tr>\n",
       "      <td>2</td>\n",
       "      <td>0.0737</td>\n",
       "      <td>0.5475</td>\n",
       "      <td>0.0642</td>\n",
       "      <td>0.4271</td>\n",
       "      <td>00:00</td>\n",
       "    </tr>\n",
       "    <tr>\n",
       "      <td>3</td>\n",
       "      <td>0.0722</td>\n",
       "      <td>0.5326</td>\n",
       "      <td>0.0630</td>\n",
       "      <td>0.4402</td>\n",
       "      <td>00:00</td>\n",
       "    </tr>\n",
       "    <tr>\n",
       "      <td>4</td>\n",
       "      <td>0.0731</td>\n",
       "      <td>0.5668</td>\n",
       "      <td>0.0597</td>\n",
       "      <td>0.5484</td>\n",
       "      <td>00:00</td>\n",
       "    </tr>\n",
       "    <tr>\n",
       "      <td>5</td>\n",
       "      <td>0.0701</td>\n",
       "      <td>0.5224</td>\n",
       "      <td>0.0586</td>\n",
       "      <td>0.5561</td>\n",
       "      <td>00:00</td>\n",
       "    </tr>\n",
       "    <tr>\n",
       "      <td>6</td>\n",
       "      <td>0.0682</td>\n",
       "      <td>0.5300</td>\n",
       "      <td>0.0578</td>\n",
       "      <td>0.5472</td>\n",
       "      <td>00:00</td>\n",
       "    </tr>\n",
       "    <tr>\n",
       "      <td>7</td>\n",
       "      <td>0.0680</td>\n",
       "      <td>0.5354</td>\n",
       "      <td>0.0575</td>\n",
       "      <td>0.6527</td>\n",
       "      <td>00:00</td>\n",
       "    </tr>\n",
       "    <tr>\n",
       "      <td>8</td>\n",
       "      <td>0.0667</td>\n",
       "      <td>0.5518</td>\n",
       "      <td>0.0568</td>\n",
       "      <td>0.5609</td>\n",
       "      <td>00:00</td>\n",
       "    </tr>\n",
       "    <tr>\n",
       "      <td>9</td>\n",
       "      <td>0.0686</td>\n",
       "      <td>0.5187</td>\n",
       "      <td>0.0590</td>\n",
       "      <td>0.7284</td>\n",
       "      <td>00:00</td>\n",
       "    </tr>\n",
       "    <tr>\n",
       "      <td>10</td>\n",
       "      <td>0.0674</td>\n",
       "      <td>0.5954</td>\n",
       "      <td>0.0564</td>\n",
       "      <td>0.5859</td>\n",
       "      <td>00:00</td>\n",
       "    </tr>\n",
       "    <tr>\n",
       "      <td>11</td>\n",
       "      <td>0.0663</td>\n",
       "      <td>0.5474</td>\n",
       "      <td>0.0561</td>\n",
       "      <td>0.6078</td>\n",
       "      <td>00:00</td>\n",
       "    </tr>\n",
       "  </tbody>\n",
       "</table>"
      ],
      "text/plain": [
       "<IPython.core.display.HTML object>"
      ]
     },
     "metadata": {},
     "output_type": "display_data"
    },
    {
     "name": "stdout",
     "output_type": "stream",
     "text": [
      "--ShowTensorboard--\n",
      "--Training Successful--\n"
     ]
    }
   ],
   "source": [
    "trainpars = dgbkeras.keras_dict\n",
    "trainpars['nbchunk'] = 1\n",
    "trainpars['epoch'] = 10\n",
    "trainpars['batch'] = 8\n",
    "model = dgbkeras.train(model, imgdp, trainpars)"
   ]
  },
  {
   "cell_type": "code",
   "execution_count": 6,
   "id": "b7370e5f-83b9-410b-96f2-6bfb5316f4d6",
   "metadata": {},
   "outputs": [
    {
     "name": "stdout",
     "output_type": "stream",
     "text": [
      "Saving model.\n",
      "Model saved.\n"
     ]
    }
   ],
   "source": [
    "dgbmlio.saveModel(model, imagexfilenm, dgbkeys.kerasplfnm, infos, '2D_UNet_VGG19_Real_Webinar.h5')"
   ]
  }
 ],
 "metadata": {
  "kernelspec": {
   "display_name": "Python 3 (ipykernel)",
   "language": "python",
   "name": "python3"
  },
  "language_info": {
   "codemirror_mode": {
    "name": "ipython",
    "version": 3
   },
   "file_extension": ".py",
   "mimetype": "text/x-python",
   "name": "python",
   "nbconvert_exporter": "python",
   "pygments_lexer": "ipython3",
   "version": "3.9.13"
  }
 },
 "nbformat": 4,
 "nbformat_minor": 5
}
