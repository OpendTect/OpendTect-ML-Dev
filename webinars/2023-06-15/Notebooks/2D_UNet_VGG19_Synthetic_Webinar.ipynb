{
 "cells": [
  {
   "cell_type": "code",
   "execution_count": 1,
   "id": "9da03a72-036f-4905-83fd-bc5ff9720e45",
   "metadata": {},
   "outputs": [],
   "source": [
    "import numpy as np\n",
    "from sklearn.model_selection import train_test_split"
   ]
  },
  {
   "cell_type": "code",
   "execution_count": 2,
   "id": "963d2241-1c5f-4db9-b17b-3a00e11d6d53",
   "metadata": {},
   "outputs": [],
   "source": [
    "input_data = np.reshape(np.fromfile('input_data_webinar.dat', dtype=np.single), (100, 128, 128))\n",
    "output_data = np.reshape(np.fromfile('output_data_webinar.dat', dtype=np.single), (100, 128, 128))"
   ]
  },
  {
   "cell_type": "code",
   "execution_count": 3,
   "id": "3e380870-6ae3-4b01-adb5-4859982ccee5",
   "metadata": {},
   "outputs": [],
   "source": [
    "X_train, X_validate, y_train, y_validate = train_test_split(input_data, output_data, test_size=0.2)"
   ]
  },
  {
   "cell_type": "code",
   "execution_count": 4,
   "id": "d1bb812d-b57b-4bdc-b0db-241c350a4b48",
   "metadata": {},
   "outputs": [],
   "source": [
    "def global_standardization(data):\n",
    "    mean = np.mean(data)\n",
    "    std = np.std(data)\n",
    "    return (data - mean) / std"
   ]
  },
  {
   "cell_type": "code",
   "execution_count": 5,
   "id": "8f5f77c2-5c29-49d5-ba0f-59ec42868517",
   "metadata": {},
   "outputs": [],
   "source": [
    "X_train_norm = global_standardization(X_train)\n",
    "X_validate_norm = global_standardization(X_validate)"
   ]
  },
  {
   "cell_type": "code",
   "execution_count": 6,
   "id": "bd960310-6589-4d23-8f5b-4d64ac3d3233",
   "metadata": {},
   "outputs": [],
   "source": [
    "from unet_vgg19 import *"
   ]
  },
  {
   "cell_type": "code",
   "execution_count": 7,
   "id": "178cd88d-032e-42d1-abac-83edcbb4ba40",
   "metadata": {},
   "outputs": [
    {
     "name": "stdout",
     "output_type": "stream",
     "text": [
      "Model: \"model\"\n",
      "__________________________________________________________________________________________________\n",
      " Layer (type)                   Output Shape         Param #     Connected to                     \n",
      "==================================================================================================\n",
      " 1024_input (InputLayer)        [(None, 128, 128, 1  0           []                               \n",
      "                                )]                                                                \n",
      "                                                                                                  \n",
      " 1024_block1_conv1 (Conv2D)     (None, 128, 128, 64  640         ['1024_input[0][0]']             \n",
      "                                )                                                                 \n",
      "                                                                                                  \n",
      " 1024_block1_conv2 (Conv2D)     (None, 128, 128, 64  36928       ['1024_block1_conv1[0][0]']      \n",
      "                                )                                                                 \n",
      "                                                                                                  \n",
      " 1024_block1_pool (MaxPooling2D  (None, 64, 64, 64)  0           ['1024_block1_conv2[0][0]']      \n",
      " )                                                                                                \n",
      "                                                                                                  \n",
      " 1024_block2_conv1 (Conv2D)     (None, 64, 64, 128)  73856       ['1024_block1_pool[0][0]']       \n",
      "                                                                                                  \n",
      " 1024_block2_conv2 (Conv2D)     (None, 64, 64, 128)  147584      ['1024_block2_conv1[0][0]']      \n",
      "                                                                                                  \n",
      " 1024_block2_pool (MaxPooling2D  (None, 32, 32, 128)  0          ['1024_block2_conv2[0][0]']      \n",
      " )                                                                                                \n",
      "                                                                                                  \n",
      " 1024_block3_conv1 (Conv2D)     (None, 32, 32, 256)  295168      ['1024_block2_pool[0][0]']       \n",
      "                                                                                                  \n",
      " 1024_block3_conv2 (Conv2D)     (None, 32, 32, 256)  590080      ['1024_block3_conv1[0][0]']      \n",
      "                                                                                                  \n",
      " 1024_block3_conv3 (Conv2D)     (None, 32, 32, 256)  590080      ['1024_block3_conv2[0][0]']      \n",
      "                                                                                                  \n",
      " 1024_block3_pool (MaxPooling2D  (None, 16, 16, 256)  0          ['1024_block3_conv3[0][0]']      \n",
      " )                                                                                                \n",
      "                                                                                                  \n",
      " 1024_block4_conv1 (Conv2D)     (None, 16, 16, 512)  1180160     ['1024_block3_pool[0][0]']       \n",
      "                                                                                                  \n",
      " 1024_block4_conv2 (Conv2D)     (None, 16, 16, 512)  2359808     ['1024_block4_conv1[0][0]']      \n",
      "                                                                                                  \n",
      " 1024_block4_conv3 (Conv2D)     (None, 16, 16, 512)  2359808     ['1024_block4_conv2[0][0]']      \n",
      "                                                                                                  \n",
      " up_sampling2d (UpSampling2D)   (None, 32, 32, 512)  0           ['1024_block4_conv3[0][0]']      \n",
      "                                                                                                  \n",
      " concatenate (Concatenate)      (None, 32, 32, 768)  0           ['up_sampling2d[0][0]',          \n",
      "                                                                  '1024_block3_conv3[0][0]']      \n",
      "                                                                                                  \n",
      " conv2d (Conv2D)                (None, 32, 32, 64)   442432      ['concatenate[0][0]']            \n",
      "                                                                                                  \n",
      " conv2d_1 (Conv2D)              (None, 32, 32, 64)   36928       ['conv2d[0][0]']                 \n",
      "                                                                                                  \n",
      " up_sampling2d_1 (UpSampling2D)  (None, 64, 64, 64)  0           ['conv2d_1[0][0]']               \n",
      "                                                                                                  \n",
      " concatenate_1 (Concatenate)    (None, 64, 64, 192)  0           ['up_sampling2d_1[0][0]',        \n",
      "                                                                  '1024_block2_conv2[0][0]']      \n",
      "                                                                                                  \n",
      " conv2d_2 (Conv2D)              (None, 64, 64, 32)   55328       ['concatenate_1[0][0]']          \n",
      "                                                                                                  \n",
      " conv2d_3 (Conv2D)              (None, 64, 64, 32)   9248        ['conv2d_2[0][0]']               \n",
      "                                                                                                  \n",
      " up_sampling2d_2 (UpSampling2D)  (None, 128, 128, 32  0          ['conv2d_3[0][0]']               \n",
      "                                )                                                                 \n",
      "                                                                                                  \n",
      " concatenate_2 (Concatenate)    (None, 128, 128, 96  0           ['up_sampling2d_2[0][0]',        \n",
      "                                )                                 '1024_block1_conv2[0][0]']      \n",
      "                                                                                                  \n",
      " conv2d_4 (Conv2D)              (None, 128, 128, 16  13840       ['concatenate_2[0][0]']          \n",
      "                                )                                                                 \n",
      "                                                                                                  \n",
      " conv2d_5 (Conv2D)              (None, 128, 128, 16  2320        ['conv2d_4[0][0]']               \n",
      "                                )                                                                 \n",
      "                                                                                                  \n",
      " conv2d_6 (Conv2D)              (None, 128, 128, 1)  17          ['conv2d_5[0][0]']               \n",
      "                                                                                                  \n",
      "==================================================================================================\n",
      "Total params: 8,194,225\n",
      "Trainable params: 8,194,225\n",
      "Non-trainable params: 0\n",
      "__________________________________________________________________________________________________\n"
     ]
    }
   ],
   "source": [
    "model = UNet_VGG19()"
   ]
  },
  {
   "cell_type": "code",
   "execution_count": 8,
   "id": "29a5f7a0-3955-4e2d-aeaf-73ed9219bdf5",
   "metadata": {},
   "outputs": [
    {
     "name": "stdout",
     "output_type": "stream",
     "text": [
      "Epoch 1/10\n",
      "10/10 [==============================] - 14s 111ms/step - loss: 0.0805 - accuracy: 0.5581 - val_loss: 0.0747 - val_accuracy: 0.4986\n",
      "Epoch 2/10\n",
      "10/10 [==============================] - 0s 47ms/step - loss: 0.0777 - accuracy: 0.6848 - val_loss: 0.0761 - val_accuracy: 0.1332\n",
      "Epoch 3/10\n",
      "10/10 [==============================] - 0s 46ms/step - loss: 0.0763 - accuracy: 0.5316 - val_loss: 0.0684 - val_accuracy: 0.6359\n",
      "Epoch 4/10\n",
      "10/10 [==============================] - 0s 47ms/step - loss: 0.0666 - accuracy: 0.7640 - val_loss: 0.0593 - val_accuracy: 0.5902\n",
      "Epoch 5/10\n",
      "10/10 [==============================] - 0s 48ms/step - loss: 0.0577 - accuracy: 0.7532 - val_loss: 0.0563 - val_accuracy: 0.6043\n",
      "Epoch 6/10\n",
      "10/10 [==============================] - 0s 48ms/step - loss: 0.0524 - accuracy: 0.7790 - val_loss: 0.0485 - val_accuracy: 0.8273\n",
      "Epoch 7/10\n",
      "10/10 [==============================] - 0s 48ms/step - loss: 0.0466 - accuracy: 0.8139 - val_loss: 0.0489 - val_accuracy: 0.6667\n",
      "Epoch 8/10\n",
      "10/10 [==============================] - 0s 48ms/step - loss: 0.0431 - accuracy: 0.8113 - val_loss: 0.0421 - val_accuracy: 0.8306\n",
      "Epoch 9/10\n",
      "10/10 [==============================] - 0s 48ms/step - loss: 0.0392 - accuracy: 0.8290 - val_loss: 0.0405 - val_accuracy: 0.7827\n",
      "Epoch 10/10\n",
      "10/10 [==============================] - 0s 48ms/step - loss: 0.0360 - accuracy: 0.8363 - val_loss: 0.0403 - val_accuracy: 0.8703\n"
     ]
    }
   ],
   "source": [
    "history = model.fit(X_train_norm, y_train,\n",
    "                    epochs=10,\n",
    "                    batch_size=8,\n",
    "                    validation_data=(X_validate_norm, y_validate))"
   ]
  },
  {
   "cell_type": "code",
   "execution_count": 9,
   "id": "717dbc88-c950-4a85-bec0-d84129aa1c22",
   "metadata": {},
   "outputs": [],
   "source": [
    "from dgbpy import mlio as dgbmlio\n",
    "from dgbpy import mlapply as dgbmlapply\n",
    "from dgbpy import keystr as dgbkeys"
   ]
  },
  {
   "cell_type": "code",
   "execution_count": 10,
   "id": "c1f406fb-410c-4995-ae28-b6197838422e",
   "metadata": {},
   "outputs": [
    {
     "name": "stdout",
     "output_type": "stream",
     "text": [
      "Process: 'Scaler computation'\n",
      "Started: Wed 21 Jun 2023, 07:35:19\n",
      "Finished: Wed 21 Jun 2023, 07:35:20\n",
      "Process: 'Data pre-loading'\n",
      "Started: Wed 21 Jun 2023, 07:35:20\n",
      "Finished: Wed 21 Jun 2023, 07:35:20\n"
     ]
    }
   ],
   "source": [
    "imagexfilenm = f'C:/Users/Legion/OdT_Folder/F3_Demo_2023_ML_2/NLAs/2D_extracted_dataset.h5'\n",
    "imgdp = dgbmlapply.getScaledTrainingData(imagexfilenm, split=0.2)"
   ]
  },
  {
   "cell_type": "code",
   "execution_count": 11,
   "id": "859712e0-18ff-4929-9322-8aded826b2df",
   "metadata": {},
   "outputs": [],
   "source": [
    "infos = imgdp[dgbkeys.infodictstr]"
   ]
  },
  {
   "cell_type": "code",
   "execution_count": 12,
   "id": "65b2dbf2-a1d5-4cc7-833f-06f5bb44e54f",
   "metadata": {},
   "outputs": [
    {
     "name": "stdout",
     "output_type": "stream",
     "text": [
      "Saving model.\n",
      "Model saved.\n"
     ]
    }
   ],
   "source": [
    "dgbmlio.saveModel(model, imagexfilenm, dgbkeys.kerasplfnm, infos, '2D_UNet_VGG19_Synthetic_Webinar.h5')"
   ]
  }
 ],
 "metadata": {
  "kernelspec": {
   "display_name": "Python 3 (ipykernel)",
   "language": "python",
   "name": "python3"
  },
  "language_info": {
   "codemirror_mode": {
    "name": "ipython",
    "version": 3
   },
   "file_extension": ".py",
   "mimetype": "text/x-python",
   "name": "python",
   "nbconvert_exporter": "python",
   "pygments_lexer": "ipython3",
   "version": "3.9.13"
  }
 },
 "nbformat": 4,
 "nbformat_minor": 5
}
